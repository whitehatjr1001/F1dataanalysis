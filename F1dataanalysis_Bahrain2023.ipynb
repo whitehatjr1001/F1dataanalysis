{
  "nbformat": 4,
  "nbformat_minor": 0,
  "metadata": {
    "colab": {
      "provenance": [],
      "authorship_tag": "ABX9TyM0E223tFZp5zeko1GLkfiO",
      "include_colab_link": true
    },
    "kernelspec": {
      "name": "python3",
      "display_name": "Python 3"
    },
    "language_info": {
      "name": "python"
    }
  },
  "cells": [
    {
      "cell_type": "markdown",
      "metadata": {
        "id": "view-in-github",
        "colab_type": "text"
      },
      "source": [
        "<a href=\"https://colab.research.google.com/github/whitehatjr1001/F1dataanalysis/blob/main/F1dataanalysis_Bahrain2023.ipynb\" target=\"_parent\"><img src=\"https://colab.research.google.com/assets/colab-badge.svg\" alt=\"Open In Colab\"/></a>"
      ]
    },
    {
      "cell_type": "code",
      "execution_count": 1,
      "metadata": {
        "colab": {
          "base_uri": "https://localhost:8080/"
        },
        "id": "y7AY03Wse2hD",
        "outputId": "a9dcbc87-0d73-4693-fe25-5df8f09fb94f"
      },
      "outputs": [
        {
          "output_type": "stream",
          "name": "stdout",
          "text": [
            "Looking in indexes: https://pypi.org/simple, https://us-python.pkg.dev/colab-wheels/public/simple/\n",
            "Collecting fastf1\n",
            "  Downloading fastf1-2.3.1-py3-none-any.whl (79 kB)\n",
            "\u001b[2K     \u001b[90m━━━━━━━━━━━━━━━━━━━━━━━━━━━━━━━━━━━━━━━━\u001b[0m \u001b[32m79.4/79.4 KB\u001b[0m \u001b[31m4.9 MB/s\u001b[0m eta \u001b[36m0:00:00\u001b[0m\n",
            "\u001b[?25hCollecting requests-cache>=0.8.0\n",
            "  Downloading requests_cache-1.0.0-py3-none-any.whl (58 kB)\n",
            "\u001b[2K     \u001b[90m━━━━━━━━━━━━━━━━━━━━━━━━━━━━━━━━━━━━━━━━\u001b[0m \u001b[32m58.6/58.6 KB\u001b[0m \u001b[31m4.2 MB/s\u001b[0m eta \u001b[36m0:00:00\u001b[0m\n",
            "\u001b[?25hCollecting signalr-client-aio\n",
            "  Downloading signalr_client_aio-0.0.1.6.2-py2.py3-none-any.whl (8.0 kB)\n",
            "Collecting timple>=0.1.2\n",
            "  Downloading timple-0.1.5-py3-none-any.whl (17 kB)\n",
            "Requirement already satisfied: pandas>=1.1.0 in /usr/local/lib/python3.9/dist-packages (from fastf1) (1.4.4)\n",
            "Requirement already satisfied: matplotlib>=3.3.3 in /usr/local/lib/python3.9/dist-packages (from fastf1) (3.7.1)\n",
            "Requirement already satisfied: requests in /usr/local/lib/python3.9/dist-packages (from fastf1) (2.25.1)\n",
            "Requirement already satisfied: scipy in /usr/local/lib/python3.9/dist-packages (from fastf1) (1.10.1)\n",
            "Requirement already satisfied: numpy>=1.17.3 in /usr/local/lib/python3.9/dist-packages (from fastf1) (1.22.4)\n",
            "Collecting thefuzz\n",
            "  Downloading thefuzz-0.19.0-py2.py3-none-any.whl (17 kB)\n",
            "Requirement already satisfied: packaging>=20.0 in /usr/local/lib/python3.9/dist-packages (from matplotlib>=3.3.3->fastf1) (23.0)\n",
            "Requirement already satisfied: pillow>=6.2.0 in /usr/local/lib/python3.9/dist-packages (from matplotlib>=3.3.3->fastf1) (8.4.0)\n",
            "Requirement already satisfied: pyparsing>=2.3.1 in /usr/local/lib/python3.9/dist-packages (from matplotlib>=3.3.3->fastf1) (3.0.9)\n",
            "Requirement already satisfied: fonttools>=4.22.0 in /usr/local/lib/python3.9/dist-packages (from matplotlib>=3.3.3->fastf1) (4.39.0)\n",
            "Requirement already satisfied: kiwisolver>=1.0.1 in /usr/local/lib/python3.9/dist-packages (from matplotlib>=3.3.3->fastf1) (1.4.4)\n",
            "Requirement already satisfied: importlib-resources>=3.2.0 in /usr/local/lib/python3.9/dist-packages (from matplotlib>=3.3.3->fastf1) (5.12.0)\n",
            "Requirement already satisfied: cycler>=0.10 in /usr/local/lib/python3.9/dist-packages (from matplotlib>=3.3.3->fastf1) (0.11.0)\n",
            "Requirement already satisfied: contourpy>=1.0.1 in /usr/local/lib/python3.9/dist-packages (from matplotlib>=3.3.3->fastf1) (1.0.7)\n",
            "Requirement already satisfied: python-dateutil>=2.7 in /usr/local/lib/python3.9/dist-packages (from matplotlib>=3.3.3->fastf1) (2.8.2)\n",
            "Requirement already satisfied: pytz>=2020.1 in /usr/local/lib/python3.9/dist-packages (from pandas>=1.1.0->fastf1) (2022.7.1)\n",
            "Requirement already satisfied: urllib3>=1.25.5 in /usr/local/lib/python3.9/dist-packages (from requests-cache>=0.8.0->fastf1) (1.26.15)\n",
            "Requirement already satisfied: attrs>=21.2 in /usr/local/lib/python3.9/dist-packages (from requests-cache>=0.8.0->fastf1) (22.2.0)\n",
            "Collecting cattrs>=22.2\n",
            "  Downloading cattrs-22.2.0-py3-none-any.whl (35 kB)\n",
            "Requirement already satisfied: platformdirs>=2.5 in /usr/local/lib/python3.9/dist-packages (from requests-cache>=0.8.0->fastf1) (3.1.1)\n",
            "Collecting url-normalize>=1.4\n",
            "  Downloading url_normalize-1.4.3-py2.py3-none-any.whl (6.8 kB)\n",
            "Requirement already satisfied: chardet<5,>=3.0.2 in /usr/local/lib/python3.9/dist-packages (from requests->fastf1) (4.0.0)\n",
            "Requirement already satisfied: certifi>=2017.4.17 in /usr/local/lib/python3.9/dist-packages (from requests->fastf1) (2022.12.7)\n",
            "Requirement already satisfied: idna<3,>=2.5 in /usr/local/lib/python3.9/dist-packages (from requests->fastf1) (2.10)\n",
            "Collecting websockets>=4.0.1\n",
            "  Downloading websockets-10.4-cp39-cp39-manylinux_2_5_x86_64.manylinux1_x86_64.manylinux_2_17_x86_64.manylinux2014_x86_64.whl (106 kB)\n",
            "\u001b[2K     \u001b[90m━━━━━━━━━━━━━━━━━━━━━━━━━━━━━━━━━━━━━━━\u001b[0m \u001b[32m106.5/106.5 KB\u001b[0m \u001b[31m6.9 MB/s\u001b[0m eta \u001b[36m0:00:00\u001b[0m\n",
            "\u001b[?25hCollecting exceptiongroup\n",
            "  Downloading exceptiongroup-1.1.1-py3-none-any.whl (14 kB)\n",
            "Requirement already satisfied: zipp>=3.1.0 in /usr/local/lib/python3.9/dist-packages (from importlib-resources>=3.2.0->matplotlib>=3.3.3->fastf1) (3.15.0)\n",
            "Requirement already satisfied: six>=1.5 in /usr/local/lib/python3.9/dist-packages (from python-dateutil>=2.7->matplotlib>=3.3.3->fastf1) (1.15.0)\n",
            "Installing collected packages: thefuzz, websockets, url-normalize, exceptiongroup, signalr-client-aio, cattrs, timple, requests-cache, fastf1\n",
            "Successfully installed cattrs-22.2.0 exceptiongroup-1.1.1 fastf1-2.3.1 requests-cache-1.0.0 signalr-client-aio-0.0.1.6.2 thefuzz-0.19.0 timple-0.1.5 url-normalize-1.4.3 websockets-10.4\n"
          ]
        }
      ],
      "source": [
        "!pip install fastf1\n"
      ]
    },
    {
      "cell_type": "code",
      "source": [
        "\n",
        "from google.colab import drive\n",
        "drive.mount('/content/drive',force_remount=True)"
      ],
      "metadata": {
        "colab": {
          "base_uri": "https://localhost:8080/"
        },
        "id": "eFQBeqIgfLoc",
        "outputId": "e2322c95-5214-4106-fafb-0214e02b4130"
      },
      "execution_count": 2,
      "outputs": [
        {
          "output_type": "stream",
          "name": "stdout",
          "text": [
            "Mounted at /content/drive\n"
          ]
        }
      ]
    },
    {
      "cell_type": "code",
      "source": [
        "import fastf1 as ff1\n",
        "from fastf1 import plotting\n",
        "from fastf1.core import Laps\n",
        "from matplotlib import pyplot as plt\n",
        "from matplotlib.pyplot import figure \n",
        "import numpy as np\n",
        "import pandas as pd"
      ],
      "metadata": {
        "id": "4-WkWWxJ6E0a"
      },
      "execution_count": null,
      "outputs": []
    },
    {
      "cell_type": "code",
      "source": [
        "ff1.Cache.enable_cache('/content/drive/MyDrive/Cache')"
      ],
      "metadata": {
        "id": "Bt-yIEVN7Nau"
      },
      "execution_count": null,
      "outputs": []
    },
    {
      "cell_type": "code",
      "source": [
        "#simple visualization of bahrain qualifying\n",
        "year=2023\n",
        "Circut='Bahrain'\n",
        "session = ff1.get_session(year,Circut,'R')\n",
        "session.load()\n",
        "laps=session.load_laps(with_telemetry=True)"
      ],
      "metadata": {
        "id": "tRxhvVJK8bYC"
      },
      "execution_count": null,
      "outputs": []
    },
    {
      "cell_type": "code",
      "source": [
        "Q=ff1.get_session(year,Circut,'Q')\n",
        "Q.load()\n",
        "laps_q=Q.load_laps(with_telemetry=True)"
      ],
      "metadata": {
        "id": "cDh08yzkA_Mn"
      },
      "execution_count": null,
      "outputs": []
    },
    {
      "cell_type": "code",
      "source": [
        "drivers = pd.unique(session.laps['Team'])\n",
        "print(drivers)"
      ],
      "metadata": {
        "colab": {
          "base_uri": "https://localhost:8080/"
        },
        "id": "k_aAEm2pAkV3",
        "outputId": "d32a5177-e8e2-4875-ad5c-ea9dc24625dc"
      },
      "execution_count": null,
      "outputs": [
        {
          "output_type": "stream",
          "name": "stdout",
          "text": [
            "['Red Bull Racing' 'Aston Martin' 'Ferrari' 'Mercedes' 'Alfa Romeo'\n",
            " 'Alpine' 'Williams' 'AlphaTauri' 'Haas F1 Team' 'McLaren']\n"
          ]
        }
      ]
    },
    {
      "cell_type": "code",
      "source": [
        "#creating a   list and storing thefastet times using loop\n",
        "list_fastest_laps = list()\n",
        "for drv in drivers:\n",
        "    drvs_fastest_lap =   Q.laps.pick_driver(drv).pick_fastest()\n",
        "    list_fastest_laps.append(drvs_fastest_lap)\n",
        "fastest_laps = Laps(list_fastest_laps).sort_values(by='LapTime').reset_index(drop=True)"
      ],
      "metadata": {
        "id": "rjKjq8QACtPg"
      },
      "execution_count": null,
      "outputs": []
    },
    {
      "cell_type": "code",
      "source": [
        "pole_lap = fastest_laps.pick_fastest()\n",
        "fastest_laps['LapTimeDelta'] = fastest_laps['LapTime'] - pole_lap['LapTime']"
      ],
      "metadata": {
        "id": "Bf1cPKf8C8W0"
      },
      "execution_count": null,
      "outputs": []
    },
    {
      "cell_type": "code",
      "source": [
        "print(fastest_laps[['Driver', 'LapTime', 'LapTimeDelta']])"
      ],
      "metadata": {
        "colab": {
          "base_uri": "https://localhost:8080/"
        },
        "id": "5mDYKK4cD4Ik",
        "outputId": "703defb9-f1f4-4bb9-d24b-097b74b4486a"
      },
      "execution_count": null,
      "outputs": [
        {
          "output_type": "stream",
          "name": "stdout",
          "text": [
            "   Driver                LapTime           LapTimeDelta\n",
            "0     VER 0 days 00:01:29.708000        0 days 00:00:00\n",
            "1     PER 0 days 00:01:29.846000 0 days 00:00:00.138000\n",
            "2     LEC        0 days 00:01:30 0 days 00:00:00.292000\n",
            "3     SAI 0 days 00:01:30.154000 0 days 00:00:00.446000\n",
            "4     ALO 0 days 00:01:30.336000 0 days 00:00:00.628000\n",
            "5     RUS 0 days 00:01:30.340000 0 days 00:00:00.632000\n",
            "6     HAM 0 days 00:01:30.384000 0 days 00:00:00.676000\n",
            "7     STR 0 days 00:01:30.836000 0 days 00:00:01.128000\n",
            "8     OCO 0 days 00:01:30.984000 0 days 00:00:01.276000\n",
            "9     HUL 0 days 00:01:31.055000 0 days 00:00:01.347000\n",
            "10    NOR 0 days 00:01:31.381000 0 days 00:00:01.673000\n",
            "11    BOT 0 days 00:01:31.443000 0 days 00:00:01.735000\n",
            "12    ALB 0 days 00:01:31.461000 0 days 00:00:01.753000\n",
            "13    ZHO 0 days 00:01:31.473000 0 days 00:00:01.765000\n",
            "14    SAR 0 days 00:01:31.652000 0 days 00:00:01.944000\n",
            "15    MAG 0 days 00:01:31.892000 0 days 00:00:02.184000\n",
            "16    PIA 0 days 00:01:32.101000 0 days 00:00:02.393000\n",
            "17    DEV 0 days 00:01:32.121000 0 days 00:00:02.413000\n",
            "18    GAS 0 days 00:01:32.181000 0 days 00:00:02.473000\n",
            "19    TSU 0 days 00:01:32.510000 0 days 00:00:02.802000\n"
          ]
        }
      ]
    },
    {
      "cell_type": "code",
      "source": [
        "team_colors = list()\n",
        "for index, lap in fastest_laps.iterlaps():\n",
        "    color =   ff1.plotting.team_color(lap['Team'])\n",
        "    team_colors.append(color)"
      ],
      "metadata": {
        "id": "dtRcCxzrEhoq"
      },
      "execution_count": null,
      "outputs": []
    },
    {
      "cell_type": "code",
      "source": [
        "fig, ax = plt.subplots()\n",
        "ax.barh(fastest_laps.index, fastest_laps['LapTimeDelta'],\n",
        "        color=team_colors, edgecolor='grey')\n",
        "ax.set_yticks(fastest_laps.index)\n",
        "ax.set_yticklabels(fastest_laps['Driver'])\n",
        "\n",
        "# show fastest at the top\n",
        "ax.invert_yaxis()\n",
        "\n",
        "# draw vertical lines behind the bars\n",
        "ax.set_axisbelow(True)\n",
        "ax.xaxis.grid(True, which='major', linestyle='--', color='black', zorder=-1000)"
      ],
      "metadata": {
        "colab": {
          "base_uri": "https://localhost:8080/",
          "height": 278
        },
        "id": "CJWY2RdjFVCn",
        "outputId": "b798cf4c-033f-45d6-ba44-6d51352e48c3"
      },
      "execution_count": null,
      "outputs": [
        {
          "output_type": "display_data",
          "data": {
            "text/plain": [
              "<Figure size 432x288 with 1 Axes>"
            ],
            "image/png": "[encoded data removed]"
          },
          "metadata": {
            "needs_background": "light"
          }
        }
      ]
    },
    {
      "cell_type": "code",
      "source": [],
      "metadata": {
        "id": "nKUlpOT3Ie7G"
      },
      "execution_count": null,
      "outputs": []
    }
  ]
}
